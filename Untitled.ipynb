{
 "cells": [
  {
   "cell_type": "code",
   "execution_count": 1,
   "metadata": {},
   "outputs": [],
   "source": [
    "#1) Import the datasets and libraries, check datatype, statistical summary, shape, null\n",
    "    #values etc\n",
    "  #1-A) Importing the necessary libraries \n",
    "\n",
    "import numpy as np #importing numpy library\n",
    "import pandas as pd  # To read the dataset as dataframe\n",
    "import seaborn as sns # For Data Visualization \n",
    "import matplotlib.pyplot as plt # Necessary module for plotting purpose\n",
    "%matplotlib inline\n",
    "from sklearn.model_selection import train_test_split # For train-test split\n",
    "\n",
    "from sklearn.metrics import  classification_report\n",
    "from sklearn.linear_model import LogisticRegression # For logistic Regression\n",
    "from sklearn.naive_bayes import GaussianNB # For Naive Bayes classifier\n",
    "from sklearn.neighbors import KNeighborsClassifier # For K-NN Classifier\n",
    "from sklearn.svm import SVC # For support vector machine based classifier\n",
    "from sklearn.ensemble import RandomForestClassifier# For random forest  based classifier\n",
    "from scipy.stats import zscore# imports the zscore from statistics module\n",
    "import statsmodels.api as sm\n",
    "from statsmodels.stats.outliers_influence import variance_inflation_factor# Used for checking the multicollinerity\n",
    "from sklearn.preprocessing import PowerTransformer\n",
    "from sklearn.compose import ColumnTransformer# Used for transforming the feature columns\n",
    "from sklearn.preprocessing import OneHotEncoder# Used to convert categorical or class data \n",
    "\n",
    "\n",
    "from sklearn.preprocessing import StandardScaler# Used to scale the feature columns \n",
    "from sklearn.metrics import confusion_matrix, accuracy_score# getting methods for confusion matrix, F1 score, Accuracy Score\n",
    "from sklearn.metrics import f1_score\n",
    "from sklearn.metrics import precision_score\n",
    "\n"
   ]
  },
  {
   "cell_type": "code",
   "execution_count": 2,
   "metadata": {},
   "outputs": [
    {
     "name": "stdout",
     "output_type": "stream",
     "text": [
      "<class 'pandas.core.frame.DataFrame'>\n",
      "RangeIndex: 5000 entries, 0 to 4999\n",
      "Data columns (total 14 columns):\n",
      " #   Column              Non-Null Count  Dtype  \n",
      "---  ------              --------------  -----  \n",
      " 0   ID                  5000 non-null   int64  \n",
      " 1   Age                 5000 non-null   int64  \n",
      " 2   Experience          5000 non-null   int64  \n",
      " 3   Income              5000 non-null   int64  \n",
      " 4   ZIP Code            5000 non-null   int64  \n",
      " 5   Family              5000 non-null   int64  \n",
      " 6   CCAvg               5000 non-null   float64\n",
      " 7   Education           5000 non-null   int64  \n",
      " 8   Mortgage            5000 non-null   int64  \n",
      " 9   Personal Loan       5000 non-null   int64  \n",
      " 10  Securities Account  5000 non-null   int64  \n",
      " 11  CD Account          5000 non-null   int64  \n",
      " 12  Online              5000 non-null   int64  \n",
      " 13  CreditCard          5000 non-null   int64  \n",
      "dtypes: float64(1), int64(13)\n",
      "memory usage: 547.0 KB\n",
      "None\n",
      "                ID          Age   Experience       Income      ZIP Code  \\\n",
      "count  5000.000000  5000.000000  5000.000000  5000.000000   5000.000000   \n",
      "mean   2500.500000    45.338400    20.104600    73.774200  93152.503000   \n",
      "std    1443.520003    11.463166    11.467954    46.033729   2121.852197   \n",
      "min       1.000000    23.000000    -3.000000     8.000000   9307.000000   \n",
      "25%    1250.750000    35.000000    10.000000    39.000000  91911.000000   \n",
      "50%    2500.500000    45.000000    20.000000    64.000000  93437.000000   \n",
      "75%    3750.250000    55.000000    30.000000    98.000000  94608.000000   \n",
      "max    5000.000000    67.000000    43.000000   224.000000  96651.000000   \n",
      "\n",
      "            Family        CCAvg    Education     Mortgage  Personal Loan  \\\n",
      "count  5000.000000  5000.000000  5000.000000  5000.000000    5000.000000   \n",
      "mean      2.396400     1.937913     1.881000    56.498800       0.096000   \n",
      "std       1.147663     1.747666     0.839869   101.713802       0.294621   \n",
      "min       1.000000     0.000000     1.000000     0.000000       0.000000   \n",
      "25%       1.000000     0.700000     1.000000     0.000000       0.000000   \n",
      "50%       2.000000     1.500000     2.000000     0.000000       0.000000   \n",
      "75%       3.000000     2.500000     3.000000   101.000000       0.000000   \n",
      "max       4.000000    10.000000     3.000000   635.000000       1.000000   \n",
      "\n",
      "       Securities Account  CD Account       Online   CreditCard  \n",
      "count         5000.000000  5000.00000  5000.000000  5000.000000  \n",
      "mean             0.104400     0.06040     0.596800     0.294000  \n",
      "std              0.305809     0.23825     0.490589     0.455637  \n",
      "min              0.000000     0.00000     0.000000     0.000000  \n",
      "25%              0.000000     0.00000     0.000000     0.000000  \n",
      "50%              0.000000     0.00000     1.000000     0.000000  \n",
      "75%              0.000000     0.00000     1.000000     1.000000  \n",
      "max              1.000000     1.00000     1.000000     1.000000  \n"
     ]
    }
   ],
   "source": [
    "#1-B) Importing the necessary Dataset\n",
    "data = pd.read_excel('Bank_Personal_Loan_Modelling.xlsx','Data')\n",
    "\n",
    "#1-C) The datatype , NON-NULL count and the feature columns \n",
    "print(data.info())\n",
    "\n",
    "#1-D)Statistical Summary of the data \n",
    "print(data.describe())\n",
    "\n",
    "#1-E) Shape of the data\n",
    "\n",
    "\n",
    "\n",
    "\n"
   ]
  },
  {
   "cell_type": "code",
   "execution_count": 3,
   "metadata": {},
   "outputs": [
    {
     "name": "stdout",
     "output_type": "stream",
     "text": [
      "      Age  Income  Family  CCAvg  Education  Mortgage  Personal Loan  \\\n",
      "0      25      49       4    1.6          1         0              0   \n",
      "1      45      34       3    1.5          1         0              0   \n",
      "2      39      11       1    1.0          1         0              0   \n",
      "3      35     100       1    2.7          2         0              0   \n",
      "4      35      45       4    1.0          2         0              0   \n",
      "...   ...     ...     ...    ...        ...       ...            ...   \n",
      "4995   29      40       1    1.9          3         0              0   \n",
      "4996   30      15       4    0.4          1        85              0   \n",
      "4997   63      24       2    0.3          3         0              0   \n",
      "4998   65      49       3    0.5          2         0              0   \n",
      "4999   28      83       3    0.8          1         0              0   \n",
      "\n",
      "      Securities Account  CD Account  Online  CreditCard  \n",
      "0                      1           0       0           0  \n",
      "1                      1           0       0           0  \n",
      "2                      0           0       0           0  \n",
      "3                      0           0       0           0  \n",
      "4                      0           0       0           1  \n",
      "...                  ...         ...     ...         ...  \n",
      "4995                   0           0       1           0  \n",
      "4996                   0           0       1           0  \n",
      "4997                   0           0       0           0  \n",
      "4998                   0           0       1           0  \n",
      "4999                   0           0       1           1  \n",
      "\n",
      "[5000 rows x 11 columns]\n"
     ]
    },
    {
     "data": {
      "image/png": "[encoded data removed]",
      "text/plain": [
       "<Figure size 1080x1080 with 2 Axes>"
      ]
     },
     "metadata": {
      "needs_background": "light"
     },
     "output_type": "display_data"
    },
    {
     "data": {
      "image/png": "[encoded data removed]",
      "text/plain": [
       "<Figure size 504x504 with 1 Axes>"
      ]
     },
     "metadata": {
      "needs_background": "light"
     },
     "output_type": "display_data"
    }
   ],
   "source": [
    "#2) Data Cleaning Steps:\n",
    "\n",
    "# The column attribute \"ID\" doesn't provide any significant information about a customer\n",
    "# buying a personal loan hence we will skip analysis of the same. Such type of column is randomly generated and has a lot \n",
    "# noise and no signal.The unique values count is very high so it is just a random data.\n",
    "del data[\"ID\"]\n",
    "\n",
    "# This is for the correlation matrix which will help in determing the columns that are free from the data cleaning step\n",
    "fig,ax=plt.subplots(figsize=(15,15))\n",
    "corrMatrix = data.corr()\n",
    "sns.heatmap(corrMatrix, annot=True)\n",
    "\n",
    "# This is a manual looping which uses no in-built function and this is used to store the columns as dictionary items \n",
    "# which will map those columns which has high linear Pearson correlation. The columns that are highly collinear should \n",
    "# be checked.\n",
    "l={}\n",
    "for i in range(13):\n",
    "    j=0\n",
    "    while j<=i:\n",
    "        if corrMatrix.iloc[i,j]>=0.80 or corrMatrix.iloc[i,j]<=-0.80:\n",
    "            if i!=j:\n",
    "                l[i]=j\n",
    "        j=j+1\n",
    "        \n",
    "        \n",
    "# This factor is used to detect multicollinearity. This will confirm the result of the correlation matrix and will help\n",
    "# us to clean the data.\n",
    "def calc_vif(X):\n",
    "    vif = pd.DataFrame()\n",
    "    # Calculating VIF\n",
    "    vif[\"variables\"] = X.columns\n",
    "    vif[\"VIF\"] = [variance_inflation_factor(X.values, i) for i in range(X.shape[1])]\n",
    "    return(vif)\n",
    "# X is an array extracted from the dataframe data.\n",
    "X=data.iloc[:,:]\n",
    "calc_vif(X)\n",
    "\n",
    "# This plot is a scatterplot which shows us high correlation between the Age and Experience feature column.\n",
    "# This gives us the clue that any one of them can suffice our need.\n",
    "plt.figure(figsize=(7,7))\n",
    "plt.scatter(x='Age',y='Experience',data=data)\n",
    "\n",
    "# We know Age and Experience column is highly correlated so we can remove one of them its better to remove Experience \n",
    "# column because we can observe that the min count of experience is -3 which is not possible so it is a faulty data\n",
    "# that can make our model decide badly so its better to remove the column Experience.\n",
    "del data[\"Experience\"]\n",
    "\n",
    "X=data.iloc[:,:]\n",
    "calc_vif(X)\n",
    "\n",
    "# By seeing the VIF of ZIP code its better to remove it as its VIF is greater than 10\n",
    "del data[\"ZIP Code\"]\n",
    "X=data.iloc[:,:]\n",
    "calc_vif(X)\n",
    "\n",
    "# From this we can see that now our data is free from all the unwanted feature columns as well as all the columns \n",
    "# that needed to be cleaned are well cleaned now.\n",
    "print(data)\n"
   ]
  },
  {
   "cell_type": "code",
   "execution_count": 5,
   "metadata": {},
   "outputs": [
    {
     "name": "stdout",
     "output_type": "stream",
     "text": [
      "      Age  Income  Family  CCAvg  Education  Mortgage  Personal Loan  \\\n",
      "0      25      49       4    1.6          1         0              0   \n",
      "1      45      34       3    1.5          1         0              0   \n",
      "2      39      11       1    1.0          1         0              0   \n",
      "3      35     100       1    2.7          2         0              0   \n",
      "4      35      45       4    1.0          2         0              0   \n",
      "...   ...     ...     ...    ...        ...       ...            ...   \n",
      "4995   29      40       1    1.9          3         0              0   \n",
      "4996   30      15       4    0.4          1        85              0   \n",
      "4997   63      24       2    0.3          3         0              0   \n",
      "4998   65      49       3    0.5          2         0              0   \n",
      "4999   28      83       3    0.8          1         0              0   \n",
      "\n",
      "      Securities Account  CD Account  Online  CreditCard  \n",
      "0                      1           0       0           0  \n",
      "1                      1           0       0           0  \n",
      "2                      0           0       0           0  \n",
      "3                      0           0       0           0  \n",
      "4                      0           0       0           1  \n",
      "...                  ...         ...     ...         ...  \n",
      "4995                   0           0       1           0  \n",
      "4996                   0           0       1           0  \n",
      "4997                   0           0       0           0  \n",
      "4998                   0           0       1           0  \n",
      "4999                   0           0       1           1  \n",
      "\n",
      "[5000 rows x 11 columns]\n"
     ]
    }
   ],
   "source": [
    "print(data)"
   ]
  },
  {
   "cell_type": "code",
   "execution_count": 4,
   "metadata": {},
   "outputs": [
    {
     "name": "stdout",
     "output_type": "stream",
     "text": [
      "3462\n",
      "106\n",
      "=================\n",
      "Age : [25 45 39 35 37 53 50 34 65 29 48 59 67 60 38 42 46 55 56 57 44 36 43 40\n",
      " 30 31 51 32 61 41 28 49 47 62 58 54 33 27 66 24 52 26 64 63 23]\n",
      "=================\n",
      "Income : [ 49  34  11 100  45  29  72  22  81 180 105 114  40 112 130 193  21  25\n",
      "  63  62  43 152  83 158  48 119  35  41  18  50 121  71 141  80  84  60\n",
      " 132 104  52 194   8 131 190  44 139  93 188  39 125  32  20 115  69  85\n",
      " 135  12 133  19  82 109  42  78  51 113 118  64 161  94  15  74  30  38\n",
      "   9  92  61  73  70 149  98 128  31  58  54 124 163  24  79 134  23  13\n",
      " 138 171 168  65  10 148 159 169 144 165  59  68  91 172  55 155  53  89\n",
      "  28  75 170 120  99 111  33 129 122 150 195 110 101 191 140 153 173 174\n",
      "  90 179 145 200 183 182  88 160 205 164  14 175 103 108 185 204 154 102\n",
      " 192 202 162 142  95 184 181 143 123 178 198 201 203 189 151 199 224 218]\n",
      "=================\n",
      "Family : [4 3 1 2]\n",
      "=================\n",
      "CCAvg : [ 1.6         1.5         1.          2.7         0.4         0.3\n",
      "  0.6         8.9         2.4         0.1         3.8         2.5\n",
      "  2.          4.7         8.1         0.5         0.9         1.2\n",
      "  0.7         3.9         0.2         2.2         3.3         1.8\n",
      "  2.9         1.4         5.          2.3         1.1         5.7\n",
      "  4.5         2.1         8.          1.7         0.          2.8\n",
      "  3.5         4.          2.6         1.3         5.6         5.2\n",
      "  3.          4.6         3.6         7.2         1.75        7.4\n",
      "  2.66666667  7.5         6.5         7.8         7.9         4.1\n",
      "  1.9         4.3         6.8         5.1         3.1         0.8\n",
      "  3.7         6.2         0.75        2.33333333  4.9         0.66666667\n",
      "  3.2         5.5         6.9         4.33333333  7.3         4.2\n",
      "  4.4         6.1         6.33333333  6.6         5.3         3.4\n",
      "  7.          6.3         8.3         6.          1.66666667  8.6\n",
      "  7.6         6.4        10.          5.9         5.4         8.8\n",
      "  1.33333333  9.          6.7         4.25        6.66666667  5.8\n",
      "  4.8         3.25        5.66666667  8.5         4.75        4.66666667\n",
      "  3.66666667  8.2         3.33333333  5.33333333  9.3         2.75      ]\n",
      "=================\n",
      "Education : [1 2 3]\n",
      "=================\n",
      "Mortgage : [  0 155 104 134 111 260 163 159  97 122 193 198 285 412 153 211 207 240\n",
      " 455 112 336 132 118 174 126 236 166 136 309 103 366 101 251 276 161 149\n",
      " 188 116 135 244 164  81 315 140  95  89  90 105 100 282 209 249  91  98\n",
      " 145 150 169 280  99  78 264 113 117 325 121 138  77 158 109 131 391  88\n",
      " 129 196 617 123 167 190 248  82 402 360 392 185 419 270 148 466 175 147\n",
      " 220 133 182 290 125 124 224 141 119 139 115 458 172 156 547 470 304 221\n",
      " 108 179 271 378 176  76 314  87 203 180 230 137 152 485 300 272 144  94\n",
      " 208 275  83 218 327 322 205 227 239  85 160 364 449  75 107  92 187 355\n",
      " 106 587 214 307 263 310 127 252 170 265 177 305 372  79 301 232 289 212\n",
      " 250  84 130 303 256 259 204 524 157 231 287 247 333 229 357 361 294  86\n",
      " 329 142 184 442 233 215 394 475 197 228 297 128 241 437 178 428 162 234\n",
      " 257 219 337 382 397 181 120 380 200 433 222 483 154 171 146 110 201 277\n",
      " 268 237 102  93 354 195 194 238 226 318 342 266 114 245 341 421 359 565\n",
      " 319 151 267 601 567 352 284 199  80 334 389 186 246 589 242 143 323 535\n",
      " 293 398 343 255 311 446 223 262 422 192 217 168 299 505 400 165 183 326\n",
      " 298 569 374 216 191 408 406 452 432 312 477 396 582 358 213 467 331 295\n",
      " 235 635 385 328 522 496 415 461 344 206 368 321 296 373 292 383 427 189\n",
      " 202  96 429 431 286 508 210 416 553 403 225 500 313 410 273 381 330 345\n",
      " 253 258 351 353 308 278 464 509 243 173 481 281 306 577 302 405 571 581\n",
      " 550 283 612 590 541]\n",
      "=================\n",
      "Personal Loan : [0 1]\n",
      "=================\n",
      "Securities Account : [1 0]\n",
      "=================\n",
      "CD Account : [0 1]\n",
      "=================\n",
      "Online : [0 1]\n",
      "=================\n",
      "CreditCard : [0 1]\n",
      "\n",
      "The count of Family is \n",
      "1    1472\n",
      "2    1296\n",
      "4    1222\n",
      "3    1010\n",
      "Name: Family, dtype: int64\n",
      "\n",
      "The count of Education is \n",
      "1    2096\n",
      "3    1501\n",
      "2    1403\n",
      "Name: Education, dtype: int64\n",
      "\n",
      "The count of Personal Loan is \n",
      "0    4520\n",
      "1     480\n",
      "Name: Personal Loan, dtype: int64\n",
      "\n",
      "The count of Securities Account is \n",
      "0    4478\n",
      "1     522\n",
      "Name: Securities Account, dtype: int64\n",
      "\n",
      "The count of CD Account is \n",
      "0    4698\n",
      "1     302\n",
      "Name: CD Account, dtype: int64\n",
      "\n",
      "The count of Online is \n",
      "1    2984\n",
      "0    2016\n",
      "Name: Online, dtype: int64\n",
      "\n",
      "The count of CreditCard is \n",
      "0    3530\n",
      "1    1470\n",
      "Name: CreditCard, dtype: int64\n",
      "\n"
     ]
    }
   ],
   "source": [
    "# 3) EDA- Exploratory Data Analysis Step\n",
    "\n",
    "# 3-A)NO. of unique in each column\n",
    "data.nunique()\n",
    "\n",
    "# 3-B) Gives us the counts of people having zero mortgage\n",
    "count_mortgage_0=0\n",
    "for i in data[\"Mortgage\"]:\n",
    "    if i==0:\n",
    "        count_mortgage_0=count_mortgage_0+1\n",
    "print(count_mortgage_0)\n",
    "count_CCAvg_0=0\n",
    "\n",
    "\n",
    "# 3-C) Gives us the counts of people having zero Crdedit Card spending\n",
    "for i in data[\"CCAvg\"]:\n",
    "    if i==0:\n",
    "        count_CCAvg_0=count_CCAvg_0+1\n",
    "print(count_CCAvg_0)\n",
    "\n",
    "\n",
    "\n",
    "#Converting Columns to categorical and continuous for easy understanding of data\n",
    "categorical_val=[]\n",
    "continuous_val=[]\n",
    "for column in data.columns:\n",
    "    print('=================')\n",
    "    print(f\"{column} : {data[column].unique()}\")\n",
    "    if len(data[column].unique()) <= 10:\n",
    "        categorical_val.append(column)\n",
    "    else:\n",
    "        continuous_val.append(column)\n",
    "        \n",
    "print(\"\")\n",
    "# 3-D) Value counts of all categorical columns.\n",
    "for i in range(len(categorical_val)):\n",
    "    print(\"The count of {} is \".format(categorical_val[i]))\n",
    "    print(data[categorical_val[i]].value_counts())\n",
    "    print(\"\")\n",
    "\n",
    "\n"
   ]
  },
  {
   "cell_type": "code",
   "execution_count": 7,
   "metadata": {},
   "outputs": [
    {
     "data": {
      "image/png": "[encoded data removed]",
      "text/plain": [
       "<Figure size 1224x1224 with 7 Axes>"
      ]
     },
     "metadata": {
      "needs_background": "light"
     },
     "output_type": "display_data"
    }
   ],
   "source": [
    "# Analaysis of categorical variables with the dependent variable Personal Loan\n",
    "plt.figure(figsize=(17,17))\n",
    "for i , column in enumerate(categorical_val,1):\n",
    "    plt.subplot(3,3,i)\n",
    "    data[data[\"Personal Loan\"]==0][column].hist(bins=35,color='red',label='Have Personal Loan = No')\n",
    "    data[data[\"Personal Loan\"]==1][column].hist(bins=35,color='Blue',label=\"Have Personal Loan = Yes\")\n",
    "    plt.legend()\n",
    "    plt.xlabel(column)\n",
    "    \n"
   ]
  },
  {
   "cell_type": "code",
   "execution_count": 8,
   "metadata": {},
   "outputs": [],
   "source": [
    "#Form the above histogram chart we can see that.\n",
    "\n",
    "#Family size of 3 and 4 members are tending to take Personal Loan.\n",
    "#Customer that belong to Education category 2 and 3 i.e. Graduate and Professional have taken more Persoanl Loan then the Undergraduate class.\n",
    "#Customer who does not have Security Account have taken Personal Loan .\n",
    "#Customer who does not CDAcount in this higher number of customer don't have Personal Loan . We can see that customer who have CDAcount most of them had taken Personal Loan. Here CDAccount means Certificate of Deposit.\n",
    "#Customer how use Internet Bank service also have higher count of Personal Loan then those who does not use Online Service.\n",
    "#Customer who don't have excess to Credit Card for Universal Bank are more likely to apply for PersonaL Loan."
   ]
  },
  {
   "cell_type": "code",
   "execution_count": 9,
   "metadata": {},
   "outputs": [
    {
     "data": {
      "text/plain": [
       "Age            AxesSubplot(0.125,0.657941;0.227941x0.222059)\n",
       "Income      AxesSubplot(0.398529,0.657941;0.227941x0.222059)\n",
       "CCAvg       AxesSubplot(0.672059,0.657941;0.227941x0.222059)\n",
       "Mortgage       AxesSubplot(0.125,0.391471;0.227941x0.222059)\n",
       "dtype: object"
      ]
     },
     "execution_count": 9,
     "metadata": {},
     "output_type": "execute_result"
    },
    {
     "data": {
      "image/png": "[encoded data removed]",
      "text/plain": [
       "<Figure size 1008x1008 with 9 Axes>"
      ]
     },
     "metadata": {
      "needs_background": "light"
     },
     "output_type": "display_data"
    }
   ],
   "source": [
    "# Finding the outliers using Box Plot\n",
    "data[continuous_val].plot(kind='box',subplots=True, layout=(3,3), fontsize=10, figsize=(14,14))\n"
   ]
  },
  {
   "cell_type": "code",
   "execution_count": 5,
   "metadata": {},
   "outputs": [
    {
     "name": "stderr",
     "output_type": "stream",
     "text": [
      "/opt/anaconda3/lib/python3.7/site-packages/ipykernel_launcher.py:11: SettingWithCopyWarning: \n",
      "A value is trying to be set on a copy of a slice from a DataFrame\n",
      "\n",
      "See the caveats in the documentation: https://pandas.pydata.org/pandas-docs/stable/user_guide/indexing.html#returning-a-view-versus-a-copy\n",
      "  # This is added back by InteractiveShellApp.init_path()\n"
     ]
    }
   ],
   "source": [
    "# From the Box Plot we can observe the Mortgage column is highly accumulated with outliers\n",
    "\n",
    "# Removing the Outliers in Mortgage Column\n",
    "Outlier = [ 'Mortgage']\n",
    "Q1=data[Outlier].quantile(0.25)\n",
    "Q3=data[Outlier].quantile(0.75)\n",
    "IQR=Q3-Q1\n",
    "LL,UL = Q1-(IQR*1.5),Q3+(IQR*1.5)\n",
    "\n",
    "for i in Outlier:\n",
    "    data[i][data[i]>UL[i]]=UL[i];data[i][data[i]<LL[i]]=LL[i] \n",
    "    "
   ]
  },
  {
   "cell_type": "code",
   "execution_count": null,
   "metadata": {},
   "outputs": [],
   "source": [
    "# 3-E) Multivariate and Univariate Analysis\n",
    "# Plots between each Pair\n",
    "sns.pairplot(data)"
   ]
  },
  {
   "cell_type": "code",
   "execution_count": null,
   "metadata": {},
   "outputs": [],
   "source": [
    "# Univariate Analysis\n",
    "\n",
    "\n",
    "ax = sns.distplot(data[data.columns[0]],\n",
    "                  bins=45,\n",
    "                  kde=True,\n",
    "                  color='skyblue',\n",
    "                  hist_kws={\"linewidth\": 15,'alpha':1})\n",
    "ax.set(xlabel='Age', ylabel='Frequency')\n"
   ]
  },
  {
   "cell_type": "code",
   "execution_count": null,
   "metadata": {},
   "outputs": [],
   "source": [
    "ax = sns.distplot(data[data.columns[1]],\n",
    "                  bins=45,\n",
    "                  kde=True,\n",
    "                  color='skyblue',\n",
    "                  hist_kws={\"linewidth\": 15,'alpha':1})\n",
    "ax.set(xlabel='Income', ylabel='Frequency')\n",
    "\n"
   ]
  },
  {
   "cell_type": "code",
   "execution_count": null,
   "metadata": {},
   "outputs": [],
   "source": [
    "ax = sns.distplot(data[data.columns[2]],\n",
    "                  bins=45,\n",
    "                  kde=True,\n",
    "                  color='yellow',\n",
    "                  hist_kws={\"linewidth\": 15,'alpha':1})\n",
    "ax.set(xlabel='Family', ylabel='Frequency')\n",
    "\n"
   ]
  },
  {
   "cell_type": "code",
   "execution_count": null,
   "metadata": {},
   "outputs": [],
   "source": [
    "ax = sns.distplot(data[data.columns[3]],\n",
    "                  bins=45,\n",
    "                  kde=True,\n",
    "                  color='skyblue',\n",
    "                  hist_kws={\"linewidth\": 15,'alpha':1})\n",
    "ax.set(xlabel='CCAvg', ylabel='Frequency')\n",
    "\n"
   ]
  },
  {
   "cell_type": "code",
   "execution_count": null,
   "metadata": {},
   "outputs": [],
   "source": [
    "ax = sns.distplot(data[data.columns[4]],\n",
    "                  bins=45,\n",
    "                  kde=True,\n",
    "                  color='skyblue',\n",
    "                  hist_kws={\"linewidth\": 15,'alpha':1})\n",
    "ax.set(xlabel='Education', ylabel='Frequency')\n",
    "\n"
   ]
  },
  {
   "cell_type": "code",
   "execution_count": null,
   "metadata": {},
   "outputs": [],
   "source": [
    "ax = sns.distplot(data[data.columns[5]],\n",
    "                  bins=45,\n",
    "                  kde=True,\n",
    "                  color='skyblue',\n",
    "                  hist_kws={\"linewidth\": 15,'alpha':1})\n",
    "ax.set(xlabel='Mortgage', ylabel='Frequency')\n",
    "\n"
   ]
  },
  {
   "cell_type": "code",
   "execution_count": null,
   "metadata": {},
   "outputs": [],
   "source": [
    "ax = sns.distplot(data[data.columns[6]],\n",
    "                  bins=45,\n",
    "                  kde=False,\n",
    "                  color='black',\n",
    "                  hist_kws={\"linewidth\": 15,'alpha':1})\n",
    "ax.set(xlabel='Securities Account', ylabel='Frequency')\n",
    "\n"
   ]
  },
  {
   "cell_type": "code",
   "execution_count": null,
   "metadata": {},
   "outputs": [],
   "source": [
    "ax = sns.distplot(data[data.columns[7]],\n",
    "                  bins=45,\n",
    "                  kde=False,\n",
    "                  color='green',\n",
    "                  hist_kws={\"linewidth\": 15,'alpha':1})\n",
    "ax.set(xlabel='CD Account', ylabel='Frequency')\n",
    "\n"
   ]
  },
  {
   "cell_type": "code",
   "execution_count": null,
   "metadata": {},
   "outputs": [],
   "source": [
    "ax = sns.distplot(data[data.columns[8]],\n",
    "                  bins=45,\n",
    "                  kde=False,\n",
    "                  color='red',\n",
    "                  hist_kws={\"linewidth\": 15,'alpha':1})\n",
    "ax.set(xlabel='Online', ylabel='Frequency')\n",
    "\n"
   ]
  },
  {
   "cell_type": "code",
   "execution_count": null,
   "metadata": {},
   "outputs": [],
   "source": [
    "ax = sns.distplot(data[data.columns[9]],\n",
    "                  bins=45,\n",
    "                  kde=True,\n",
    "                  color='skyblue',\n",
    "                  hist_kws={\"linewidth\": 15,'alpha':1})\n",
    "ax.set(xlabel='CreditCard', ylabel='Frequency')\n",
    "\n"
   ]
  },
  {
   "cell_type": "code",
   "execution_count": 6,
   "metadata": {},
   "outputs": [
    {
     "data": {
      "text/html": [
       "<div>\n",
       "<style scoped>\n",
       "    .dataframe tbody tr th:only-of-type {\n",
       "        vertical-align: middle;\n",
       "    }\n",
       "\n",
       "    .dataframe tbody tr th {\n",
       "        vertical-align: top;\n",
       "    }\n",
       "\n",
       "    .dataframe thead th {\n",
       "        text-align: right;\n",
       "    }\n",
       "</style>\n",
       "<table border=\"1\" class=\"dataframe\">\n",
       "  <thead>\n",
       "    <tr style=\"text-align: right;\">\n",
       "      <th>Personal Loan</th>\n",
       "      <th>0</th>\n",
       "      <th>1</th>\n",
       "    </tr>\n",
       "    <tr>\n",
       "      <th>Income</th>\n",
       "      <th></th>\n",
       "      <th></th>\n",
       "    </tr>\n",
       "  </thead>\n",
       "  <tbody>\n",
       "    <tr>\n",
       "      <th>(0, 50]</th>\n",
       "      <td>100.000000</td>\n",
       "      <td>0.000000</td>\n",
       "    </tr>\n",
       "    <tr>\n",
       "      <th>(50, 100]</th>\n",
       "      <td>97.758805</td>\n",
       "      <td>2.241195</td>\n",
       "    </tr>\n",
       "    <tr>\n",
       "      <th>(100, 150]</th>\n",
       "      <td>71.428571</td>\n",
       "      <td>28.571429</td>\n",
       "    </tr>\n",
       "    <tr>\n",
       "      <th>(150, 200]</th>\n",
       "      <td>49.530516</td>\n",
       "      <td>50.469484</td>\n",
       "    </tr>\n",
       "    <tr>\n",
       "      <th>(200, 250]</th>\n",
       "      <td>81.250000</td>\n",
       "      <td>18.750000</td>\n",
       "    </tr>\n",
       "  </tbody>\n",
       "</table>\n",
       "</div>"
      ],
      "text/plain": [
       "Personal Loan           0          1\n",
       "Income                              \n",
       "(0, 50]        100.000000   0.000000\n",
       "(50, 100]       97.758805   2.241195\n",
       "(100, 150]      71.428571  28.571429\n",
       "(150, 200]      49.530516  50.469484\n",
       "(200, 250]      81.250000  18.750000"
      ]
     },
     "execution_count": 6,
     "metadata": {},
     "output_type": "execute_result"
    },
    {
     "data": {
      "image/png": "[encoded data removed]",
      "text/plain": [
       "<Figure size 864x576 with 1 Axes>"
      ]
     },
     "metadata": {
      "needs_background": "light"
     },
     "output_type": "display_data"
    },
    {
     "data": {
      "image/png": "[encoded data removed]",
      "text/plain": [
       "<Figure size 864x576 with 1 Axes>"
      ]
     },
     "metadata": {
      "needs_background": "light"
     },
     "output_type": "display_data"
    }
   ],
   "source": [
    "# Bivariate Analyis of Continuos feature columns\n",
    "\n",
    "plt.figure(figsize=(12,8))\n",
    "sns.distplot(data[data['Personal Loan'] == 0]['Age'],kde=False, color='g', label='Personal Loan=0')\n",
    "sns.distplot(data[data['Personal Loan'] == 1]['Age'],kde=False, color='b',label='Personal Loan=1')\n",
    "plt.legend()\n",
    "plt.title(\"Age Distribution\")\n",
    "\n",
    "age_cut = pd.cut(data['Age'],bins=[20,30,40,50,60])\n",
    "pd.crosstab(age_cut,data['Personal Loan']).apply(lambda r: r/r.sum()*100, axis=1)\n",
    "\n",
    "#From above table as well as distribution plot of Age attribute, one can observe that most of the customers lie in the age group of 30 to 60. Also,one can observe that 10.5% of the total customers in age group 20-30 have bought personal loan from the bank, while in age groups (30-40), (40-50) and (50-60), there is a conversion rate of around 9%.\n",
    "\n",
    "\n",
    "#Analyzing the Income attribute with Personal loan\n",
    "plt.figure(figsize=(12,8))\n",
    "sns.distplot(data[data['Personal Loan'] == 0]['Income'],kde=False, color='r', label='Personal Loan=0')\n",
    "sns.distplot(data[data['Personal Loan'] == 1]['Income'],kde=False, color='y',label='Personal Loan=1')\n",
    "plt.legend()\n",
    "plt.title(\"Income Distribution\")\n",
    "\n",
    "\n",
    "inc_cut = pd.cut(data['Income'],bins=[0,50,100,150,200,250])\n",
    "pd.crosstab(inc_cut,data['Personal Loan']).apply(lambda r: r/r.sum()*100, axis=1)\n",
    "\n",
    "#No customer with income < 50,000$ opted for the personal \n",
    "#loan where as half of the cutomers with income within the \n",
    "#range of 150 to 200 thousand dollars purchased personal loan...! \n",
    "#Customers within range of (100 to 150) and (200 to 250) thousand dollars showed a \n",
    "#conversion rate of about 28.5% and 18.75%, respectively.\n",
    "\n",
    "\n",
    "\n"
   ]
  },
  {
   "cell_type": "code",
   "execution_count": null,
   "metadata": {},
   "outputs": [],
   "source": [
    "#Complete Bivaruate Analysis\n",
    "sns.FacetGrid(data=data,row='Education',col='Family',hue='Personal Loan').map(plt.hist,'Income').add_legend()"
   ]
  },
  {
   "cell_type": "code",
   "execution_count": null,
   "metadata": {},
   "outputs": [],
   "source": [
    "# Arranging the correlation coeffecient in descending order\n",
    "data.corr().loc['Personal Loan',:].sort_values(ascending=False)"
   ]
  },
  {
   "cell_type": "code",
   "execution_count": null,
   "metadata": {},
   "outputs": [],
   "source": [
    "#From qualitative and quantitative exploratory data analysis done until now, one can see \n",
    "#that Income and CCAvg are two most important features deciding whether a customer will buy \n",
    "#a personal loan or not. Other attributes such as CD Account, Mortgage, Education, Family, \n",
    "#Securities Account are also of some importance as per their mentioned order. But, let us \n",
    "#verify the importance of above attributes using statistical approach."
   ]
  },
  {
   "cell_type": "code",
   "execution_count": null,
   "metadata": {},
   "outputs": [],
   "source": [
    "# Significance test for numerical columns\n",
    "\n",
    "data_num = data.loc[:,['Personal Loan', 'Income', 'CCAvg', 'CD Account', 'Mortgage', 'Education', 'Family', 'Securities Account', 'Age']]\n",
    "data_num['intercept'] = 1\n",
    "log_mod = sm.Logit(data_num['Personal Loan'], data_num[['intercept', 'Income', 'CCAvg', 'Mortgage', 'Age']]).fit()\n",
    "log_mod.summary()\n"
   ]
  },
  {
   "cell_type": "code",
   "execution_count": null,
   "metadata": {},
   "outputs": [],
   "source": [
    "#One can see that,  𝑝 -values for Income, CCAvg are less than  𝛼=0.05 . Hence with 95% \n",
    "#confidence, we can say that they are significant for predicting the target attribute class. \n",
    "#Age attribute seems to be insignificant for the given problem"
   ]
  },
  {
   "cell_type": "code",
   "execution_count": null,
   "metadata": {},
   "outputs": [],
   "source": [
    "#Getting the target column distribution\n",
    "# Converting above target class distribution as dataframe\n",
    "data_target = data['Personal Loan'].value_counts()\n",
    "data_target = pd.DataFrame({'class':data_target.index, 'count':data_target.values})"
   ]
  },
  {
   "cell_type": "code",
   "execution_count": null,
   "metadata": {},
   "outputs": [],
   "source": [
    "data_target"
   ]
  },
  {
   "cell_type": "code",
   "execution_count": null,
   "metadata": {},
   "outputs": [],
   "source": [
    "# barplot for target column distribution\n",
    "sns.barplot(x='class',y = 'count',data=data_target);\n"
   ]
  },
  {
   "cell_type": "code",
   "execution_count": null,
   "metadata": {},
   "outputs": [],
   "source": [
    "# Let us add the percentage column to the dataframe.\n",
    "data_target['Percentage'] = data_target['count']/data_target['count'].sum()*100\n",
    "data_target"
   ]
  },
  {
   "cell_type": "code",
   "execution_count": null,
   "metadata": {},
   "outputs": [],
   "source": [
    "# Let us plot the Pie Plot\n",
    "plt.pie(data_target['Percentage'],labels=['No Personal Loan','Personal Loan'],autopct= '%1.1f%%');"
   ]
  },
  {
   "cell_type": "code",
   "execution_count": null,
   "metadata": {},
   "outputs": [],
   "source": [
    "#One can see that, 9.6% of the total customers bought the personal loan in the previous campaign\n",
    "#Observation: Clearly, there is a high amount of class imbalance in the target attribute..!"
   ]
  },
  {
   "cell_type": "code",
   "execution_count": 7,
   "metadata": {},
   "outputs": [
    {
     "data": {
      "text/plain": [
       "<matplotlib.axes._subplots.AxesSubplot at 0x1a1864d950>"
      ]
     },
     "execution_count": 7,
     "metadata": {},
     "output_type": "execute_result"
    },
    {
     "data": {
      "image/png": "[encoded data removed]",
      "text/plain": [
       "<Figure size 432x288 with 1 Axes>"
      ]
     },
     "metadata": {
      "needs_background": "light"
     },
     "output_type": "display_data"
    }
   ],
   "source": [
    "# 4) Transformations step\n",
    "# As we know that the feature columns must be normally distributed and to convert them from skewed\n",
    "# to normal we apply these transformations\n",
    "pt=PowerTransformer(method=\"yeo-johnson\",standardize=False)\n",
    "pt.fit(data[\"Income\"].values.reshape(-1,1))\n",
    "data[\"Income\"]=pt.transform(data[\"Income\"].values.reshape(-1,1))\n",
    "sns.distplot(data[\"Income\"])\n",
    "\n",
    "\n",
    "\n",
    "pt=PowerTransformer(method=\"yeo-johnson\",standardize=False)\n",
    "pt.fit(data[\"Age\"].values.reshape(-1,1))\n",
    "data[\"Age\"]=pt.transform(data[\"Age\"].values.reshape(-1,1))\n",
    "sns.distplot(data[\"Age\"])\n",
    "\n",
    "\n",
    "pt=PowerTransformer(method=\"yeo-johnson\",standardize=False)\n",
    "pt.fit(data[\"CCAvg\"].values.reshape(-1,1))\n",
    "data[\"CCAvg\"]=pt.transform(data[\"CCAvg\"].values.reshape(-1,1))\n",
    "sns.distplot(data[\"CCAvg\"])"
   ]
  },
  {
   "cell_type": "code",
   "execution_count": 14,
   "metadata": {},
   "outputs": [
    {
     "data": {
      "text/html": [
       "<div>\n",
       "<style scoped>\n",
       "    .dataframe tbody tr th:only-of-type {\n",
       "        vertical-align: middle;\n",
       "    }\n",
       "\n",
       "    .dataframe tbody tr th {\n",
       "        vertical-align: top;\n",
       "    }\n",
       "\n",
       "    .dataframe thead th {\n",
       "        text-align: right;\n",
       "    }\n",
       "</style>\n",
       "<table border=\"1\" class=\"dataframe\">\n",
       "  <thead>\n",
       "    <tr style=\"text-align: right;\">\n",
       "      <th></th>\n",
       "      <th>Age</th>\n",
       "      <th>Income</th>\n",
       "      <th>Family</th>\n",
       "      <th>CCAvg</th>\n",
       "      <th>Education</th>\n",
       "      <th>Mortgage</th>\n",
       "      <th>Personal Loan</th>\n",
       "      <th>Securities Account</th>\n",
       "      <th>CD Account</th>\n",
       "      <th>Online</th>\n",
       "      <th>CreditCard</th>\n",
       "    </tr>\n",
       "  </thead>\n",
       "  <tbody>\n",
       "    <tr>\n",
       "      <th>0</th>\n",
       "      <td>16.948183</td>\n",
       "      <td>6.827583</td>\n",
       "      <td>4</td>\n",
       "      <td>0.845150</td>\n",
       "      <td>1</td>\n",
       "      <td>0.0</td>\n",
       "      <td>0</td>\n",
       "      <td>1</td>\n",
       "      <td>0</td>\n",
       "      <td>0</td>\n",
       "      <td>0</td>\n",
       "    </tr>\n",
       "    <tr>\n",
       "      <th>1</th>\n",
       "      <td>28.004416</td>\n",
       "      <td>5.876952</td>\n",
       "      <td>3</td>\n",
       "      <td>0.814468</td>\n",
       "      <td>1</td>\n",
       "      <td>0.0</td>\n",
       "      <td>0</td>\n",
       "      <td>1</td>\n",
       "      <td>0</td>\n",
       "      <td>0</td>\n",
       "      <td>0</td>\n",
       "    </tr>\n",
       "    <tr>\n",
       "      <th>2</th>\n",
       "      <td>24.791734</td>\n",
       "      <td>3.504287</td>\n",
       "      <td>1</td>\n",
       "      <td>0.633771</td>\n",
       "      <td>1</td>\n",
       "      <td>0.0</td>\n",
       "      <td>0</td>\n",
       "      <td>0</td>\n",
       "      <td>0</td>\n",
       "      <td>0</td>\n",
       "      <td>0</td>\n",
       "    </tr>\n",
       "    <tr>\n",
       "      <th>3</th>\n",
       "      <td>22.605659</td>\n",
       "      <td>8.983393</td>\n",
       "      <td>1</td>\n",
       "      <td>1.107409</td>\n",
       "      <td>2</td>\n",
       "      <td>0.0</td>\n",
       "      <td>0</td>\n",
       "      <td>0</td>\n",
       "      <td>0</td>\n",
       "      <td>0</td>\n",
       "      <td>0</td>\n",
       "    </tr>\n",
       "    <tr>\n",
       "      <th>4</th>\n",
       "      <td>22.605659</td>\n",
       "      <td>6.597314</td>\n",
       "      <td>4</td>\n",
       "      <td>0.633771</td>\n",
       "      <td>2</td>\n",
       "      <td>0.0</td>\n",
       "      <td>0</td>\n",
       "      <td>0</td>\n",
       "      <td>0</td>\n",
       "      <td>0</td>\n",
       "      <td>1</td>\n",
       "    </tr>\n",
       "    <tr>\n",
       "      <th>...</th>\n",
       "      <td>...</td>\n",
       "      <td>...</td>\n",
       "      <td>...</td>\n",
       "      <td>...</td>\n",
       "      <td>...</td>\n",
       "      <td>...</td>\n",
       "      <td>...</td>\n",
       "      <td>...</td>\n",
       "      <td>...</td>\n",
       "      <td>...</td>\n",
       "      <td>...</td>\n",
       "    </tr>\n",
       "    <tr>\n",
       "      <th>4995</th>\n",
       "      <td>19.248192</td>\n",
       "      <td>6.287699</td>\n",
       "      <td>1</td>\n",
       "      <td>0.928929</td>\n",
       "      <td>3</td>\n",
       "      <td>0.0</td>\n",
       "      <td>0</td>\n",
       "      <td>0</td>\n",
       "      <td>0</td>\n",
       "      <td>1</td>\n",
       "      <td>0</td>\n",
       "    </tr>\n",
       "    <tr>\n",
       "      <th>4996</th>\n",
       "      <td>19.814995</td>\n",
       "      <td>4.077942</td>\n",
       "      <td>4</td>\n",
       "      <td>0.322048</td>\n",
       "      <td>1</td>\n",
       "      <td>85.0</td>\n",
       "      <td>0</td>\n",
       "      <td>0</td>\n",
       "      <td>0</td>\n",
       "      <td>1</td>\n",
       "      <td>0</td>\n",
       "    </tr>\n",
       "    <tr>\n",
       "      <th>4997</th>\n",
       "      <td>37.262946</td>\n",
       "      <td>5.058173</td>\n",
       "      <td>2</td>\n",
       "      <td>0.253538</td>\n",
       "      <td>3</td>\n",
       "      <td>0.0</td>\n",
       "      <td>0</td>\n",
       "      <td>0</td>\n",
       "      <td>0</td>\n",
       "      <td>0</td>\n",
       "      <td>0</td>\n",
       "    </tr>\n",
       "    <tr>\n",
       "      <th>4998</th>\n",
       "      <td>38.262652</td>\n",
       "      <td>6.827583</td>\n",
       "      <td>3</td>\n",
       "      <td>0.384643</td>\n",
       "      <td>2</td>\n",
       "      <td>0.0</td>\n",
       "      <td>0</td>\n",
       "      <td>0</td>\n",
       "      <td>0</td>\n",
       "      <td>1</td>\n",
       "      <td>0</td>\n",
       "    </tr>\n",
       "    <tr>\n",
       "      <th>4999</th>\n",
       "      <td>18.678242</td>\n",
       "      <td>8.379274</td>\n",
       "      <td>3</td>\n",
       "      <td>0.544705</td>\n",
       "      <td>1</td>\n",
       "      <td>0.0</td>\n",
       "      <td>0</td>\n",
       "      <td>0</td>\n",
       "      <td>0</td>\n",
       "      <td>1</td>\n",
       "      <td>1</td>\n",
       "    </tr>\n",
       "  </tbody>\n",
       "</table>\n",
       "<p>5000 rows × 11 columns</p>\n",
       "</div>"
      ],
      "text/plain": [
       "            Age    Income  Family     CCAvg  Education  Mortgage  \\\n",
       "0     16.948183  6.827583       4  0.845150          1       0.0   \n",
       "1     28.004416  5.876952       3  0.814468          1       0.0   \n",
       "2     24.791734  3.504287       1  0.633771          1       0.0   \n",
       "3     22.605659  8.983393       1  1.107409          2       0.0   \n",
       "4     22.605659  6.597314       4  0.633771          2       0.0   \n",
       "...         ...       ...     ...       ...        ...       ...   \n",
       "4995  19.248192  6.287699       1  0.928929          3       0.0   \n",
       "4996  19.814995  4.077942       4  0.322048          1      85.0   \n",
       "4997  37.262946  5.058173       2  0.253538          3       0.0   \n",
       "4998  38.262652  6.827583       3  0.384643          2       0.0   \n",
       "4999  18.678242  8.379274       3  0.544705          1       0.0   \n",
       "\n",
       "      Personal Loan  Securities Account  CD Account  Online  CreditCard  \n",
       "0                 0                   1           0       0           0  \n",
       "1                 0                   1           0       0           0  \n",
       "2                 0                   0           0       0           0  \n",
       "3                 0                   0           0       0           0  \n",
       "4                 0                   0           0       0           1  \n",
       "...             ...                 ...         ...     ...         ...  \n",
       "4995              0                   0           0       1           0  \n",
       "4996              0                   0           0       1           0  \n",
       "4997              0                   0           0       0           0  \n",
       "4998              0                   0           0       1           0  \n",
       "4999              0                   0           0       1           1  \n",
       "\n",
       "[5000 rows x 11 columns]"
      ]
     },
     "execution_count": 14,
     "metadata": {},
     "output_type": "execute_result"
    }
   ],
   "source": [
    "data"
   ]
  },
  {
   "cell_type": "code",
   "execution_count": 8,
   "metadata": {},
   "outputs": [],
   "source": [
    "data_Y=data[\"Personal Loan\"]\n",
    "del data[\"Personal Loan\"]\n",
    "data_X=data\n",
    "# One hot encoding for the ctegorical variables\n",
    "ct = ColumnTransformer(transformers=[('encoder', OneHotEncoder(), [2])], remainder='passthrough')\n",
    "data_X = np.array(ct.fit_transform(data_X))\n",
    "\n"
   ]
  },
  {
   "cell_type": "code",
   "execution_count": 9,
   "metadata": {},
   "outputs": [
    {
     "data": {
      "text/html": [
       "<div>\n",
       "<style scoped>\n",
       "    .dataframe tbody tr th:only-of-type {\n",
       "        vertical-align: middle;\n",
       "    }\n",
       "\n",
       "    .dataframe tbody tr th {\n",
       "        vertical-align: top;\n",
       "    }\n",
       "\n",
       "    .dataframe thead th {\n",
       "        text-align: right;\n",
       "    }\n",
       "</style>\n",
       "<table border=\"1\" class=\"dataframe\">\n",
       "  <thead>\n",
       "    <tr style=\"text-align: right;\">\n",
       "      <th></th>\n",
       "      <th>0</th>\n",
       "      <th>1</th>\n",
       "      <th>2</th>\n",
       "      <th>3</th>\n",
       "      <th>4</th>\n",
       "      <th>5</th>\n",
       "      <th>6</th>\n",
       "      <th>7</th>\n",
       "      <th>8</th>\n",
       "      <th>9</th>\n",
       "      <th>10</th>\n",
       "      <th>11</th>\n",
       "      <th>12</th>\n",
       "    </tr>\n",
       "  </thead>\n",
       "  <tbody>\n",
       "    <tr>\n",
       "      <th>0</th>\n",
       "      <td>0.0</td>\n",
       "      <td>0.0</td>\n",
       "      <td>0.0</td>\n",
       "      <td>1.0</td>\n",
       "      <td>16.948183</td>\n",
       "      <td>6.827583</td>\n",
       "      <td>0.845150</td>\n",
       "      <td>1.0</td>\n",
       "      <td>0.0</td>\n",
       "      <td>1.0</td>\n",
       "      <td>0.0</td>\n",
       "      <td>0.0</td>\n",
       "      <td>0.0</td>\n",
       "    </tr>\n",
       "    <tr>\n",
       "      <th>1</th>\n",
       "      <td>0.0</td>\n",
       "      <td>0.0</td>\n",
       "      <td>1.0</td>\n",
       "      <td>0.0</td>\n",
       "      <td>28.004416</td>\n",
       "      <td>5.876952</td>\n",
       "      <td>0.814468</td>\n",
       "      <td>1.0</td>\n",
       "      <td>0.0</td>\n",
       "      <td>1.0</td>\n",
       "      <td>0.0</td>\n",
       "      <td>0.0</td>\n",
       "      <td>0.0</td>\n",
       "    </tr>\n",
       "    <tr>\n",
       "      <th>2</th>\n",
       "      <td>1.0</td>\n",
       "      <td>0.0</td>\n",
       "      <td>0.0</td>\n",
       "      <td>0.0</td>\n",
       "      <td>24.791734</td>\n",
       "      <td>3.504287</td>\n",
       "      <td>0.633771</td>\n",
       "      <td>1.0</td>\n",
       "      <td>0.0</td>\n",
       "      <td>0.0</td>\n",
       "      <td>0.0</td>\n",
       "      <td>0.0</td>\n",
       "      <td>0.0</td>\n",
       "    </tr>\n",
       "    <tr>\n",
       "      <th>3</th>\n",
       "      <td>1.0</td>\n",
       "      <td>0.0</td>\n",
       "      <td>0.0</td>\n",
       "      <td>0.0</td>\n",
       "      <td>22.605659</td>\n",
       "      <td>8.983393</td>\n",
       "      <td>1.107409</td>\n",
       "      <td>2.0</td>\n",
       "      <td>0.0</td>\n",
       "      <td>0.0</td>\n",
       "      <td>0.0</td>\n",
       "      <td>0.0</td>\n",
       "      <td>0.0</td>\n",
       "    </tr>\n",
       "    <tr>\n",
       "      <th>4</th>\n",
       "      <td>0.0</td>\n",
       "      <td>0.0</td>\n",
       "      <td>0.0</td>\n",
       "      <td>1.0</td>\n",
       "      <td>22.605659</td>\n",
       "      <td>6.597314</td>\n",
       "      <td>0.633771</td>\n",
       "      <td>2.0</td>\n",
       "      <td>0.0</td>\n",
       "      <td>0.0</td>\n",
       "      <td>0.0</td>\n",
       "      <td>0.0</td>\n",
       "      <td>1.0</td>\n",
       "    </tr>\n",
       "    <tr>\n",
       "      <th>...</th>\n",
       "      <td>...</td>\n",
       "      <td>...</td>\n",
       "      <td>...</td>\n",
       "      <td>...</td>\n",
       "      <td>...</td>\n",
       "      <td>...</td>\n",
       "      <td>...</td>\n",
       "      <td>...</td>\n",
       "      <td>...</td>\n",
       "      <td>...</td>\n",
       "      <td>...</td>\n",
       "      <td>...</td>\n",
       "      <td>...</td>\n",
       "    </tr>\n",
       "    <tr>\n",
       "      <th>4995</th>\n",
       "      <td>1.0</td>\n",
       "      <td>0.0</td>\n",
       "      <td>0.0</td>\n",
       "      <td>0.0</td>\n",
       "      <td>19.248192</td>\n",
       "      <td>6.287699</td>\n",
       "      <td>0.928929</td>\n",
       "      <td>3.0</td>\n",
       "      <td>0.0</td>\n",
       "      <td>0.0</td>\n",
       "      <td>0.0</td>\n",
       "      <td>1.0</td>\n",
       "      <td>0.0</td>\n",
       "    </tr>\n",
       "    <tr>\n",
       "      <th>4996</th>\n",
       "      <td>0.0</td>\n",
       "      <td>0.0</td>\n",
       "      <td>0.0</td>\n",
       "      <td>1.0</td>\n",
       "      <td>19.814995</td>\n",
       "      <td>4.077942</td>\n",
       "      <td>0.322048</td>\n",
       "      <td>1.0</td>\n",
       "      <td>85.0</td>\n",
       "      <td>0.0</td>\n",
       "      <td>0.0</td>\n",
       "      <td>1.0</td>\n",
       "      <td>0.0</td>\n",
       "    </tr>\n",
       "    <tr>\n",
       "      <th>4997</th>\n",
       "      <td>0.0</td>\n",
       "      <td>1.0</td>\n",
       "      <td>0.0</td>\n",
       "      <td>0.0</td>\n",
       "      <td>37.262946</td>\n",
       "      <td>5.058173</td>\n",
       "      <td>0.253538</td>\n",
       "      <td>3.0</td>\n",
       "      <td>0.0</td>\n",
       "      <td>0.0</td>\n",
       "      <td>0.0</td>\n",
       "      <td>0.0</td>\n",
       "      <td>0.0</td>\n",
       "    </tr>\n",
       "    <tr>\n",
       "      <th>4998</th>\n",
       "      <td>0.0</td>\n",
       "      <td>0.0</td>\n",
       "      <td>1.0</td>\n",
       "      <td>0.0</td>\n",
       "      <td>38.262652</td>\n",
       "      <td>6.827583</td>\n",
       "      <td>0.384643</td>\n",
       "      <td>2.0</td>\n",
       "      <td>0.0</td>\n",
       "      <td>0.0</td>\n",
       "      <td>0.0</td>\n",
       "      <td>1.0</td>\n",
       "      <td>0.0</td>\n",
       "    </tr>\n",
       "    <tr>\n",
       "      <th>4999</th>\n",
       "      <td>0.0</td>\n",
       "      <td>0.0</td>\n",
       "      <td>1.0</td>\n",
       "      <td>0.0</td>\n",
       "      <td>18.678242</td>\n",
       "      <td>8.379274</td>\n",
       "      <td>0.544705</td>\n",
       "      <td>1.0</td>\n",
       "      <td>0.0</td>\n",
       "      <td>0.0</td>\n",
       "      <td>0.0</td>\n",
       "      <td>1.0</td>\n",
       "      <td>1.0</td>\n",
       "    </tr>\n",
       "  </tbody>\n",
       "</table>\n",
       "<p>5000 rows × 13 columns</p>\n",
       "</div>"
      ],
      "text/plain": [
       "        0    1    2    3          4         5         6    7     8    9   10  \\\n",
       "0     0.0  0.0  0.0  1.0  16.948183  6.827583  0.845150  1.0   0.0  1.0  0.0   \n",
       "1     0.0  0.0  1.0  0.0  28.004416  5.876952  0.814468  1.0   0.0  1.0  0.0   \n",
       "2     1.0  0.0  0.0  0.0  24.791734  3.504287  0.633771  1.0   0.0  0.0  0.0   \n",
       "3     1.0  0.0  0.0  0.0  22.605659  8.983393  1.107409  2.0   0.0  0.0  0.0   \n",
       "4     0.0  0.0  0.0  1.0  22.605659  6.597314  0.633771  2.0   0.0  0.0  0.0   \n",
       "...   ...  ...  ...  ...        ...       ...       ...  ...   ...  ...  ...   \n",
       "4995  1.0  0.0  0.0  0.0  19.248192  6.287699  0.928929  3.0   0.0  0.0  0.0   \n",
       "4996  0.0  0.0  0.0  1.0  19.814995  4.077942  0.322048  1.0  85.0  0.0  0.0   \n",
       "4997  0.0  1.0  0.0  0.0  37.262946  5.058173  0.253538  3.0   0.0  0.0  0.0   \n",
       "4998  0.0  0.0  1.0  0.0  38.262652  6.827583  0.384643  2.0   0.0  0.0  0.0   \n",
       "4999  0.0  0.0  1.0  0.0  18.678242  8.379274  0.544705  1.0   0.0  0.0  0.0   \n",
       "\n",
       "       11   12  \n",
       "0     0.0  0.0  \n",
       "1     0.0  0.0  \n",
       "2     0.0  0.0  \n",
       "3     0.0  0.0  \n",
       "4     0.0  1.0  \n",
       "...   ...  ...  \n",
       "4995  1.0  0.0  \n",
       "4996  1.0  0.0  \n",
       "4997  0.0  0.0  \n",
       "4998  1.0  0.0  \n",
       "4999  1.0  1.0  \n",
       "\n",
       "[5000 rows x 13 columns]"
      ]
     },
     "execution_count": 9,
     "metadata": {},
     "output_type": "execute_result"
    }
   ],
   "source": [
    "data_X =pd.DataFrame(data_X)\n",
    "data_X"
   ]
  },
  {
   "cell_type": "code",
   "execution_count": 10,
   "metadata": {},
   "outputs": [],
   "source": [
    "\n",
    "ct = ColumnTransformer(transformers=[('encoder', OneHotEncoder(), [7])], remainder='passthrough')\n",
    "data_X = np.array(ct.fit_transform(data_X))\n",
    "data_X =pd.DataFrame(data_X)\n",
    "\n",
    "\n"
   ]
  },
  {
   "cell_type": "code",
   "execution_count": 11,
   "metadata": {},
   "outputs": [],
   "source": [
    "# 5) Split the data into training and test set in the ratio of 70:30 respectively\n",
    "# Train test split\n",
    "train_X , test_X , train_Y , test_Y=train_test_split(data_X,data_Y,test_size=0.3 , stratify=data_Y,random_state=0)\n",
    "train_X = np.array(train_X)\n",
    "test_X = np.array(test_X)"
   ]
  },
  {
   "cell_type": "code",
   "execution_count": 12,
   "metadata": {},
   "outputs": [],
   "source": [
    "# 5-B) Scaling or Normalisation \n",
    "sc = StandardScaler()\n",
    "train_X[:, 4:6] = sc.fit_transform(train_X[:, 4:6])\n",
    "test_X[:, 4:6] = sc.transform(test_X[:, 4:6])\n",
    "\n",
    "train_X = np.array(train_X)\n",
    "test_X = np.array(test_X)\n",
    "\n",
    "sc = StandardScaler()\n",
    "train_X[:, 6:8] = sc.fit_transform(train_X[:, 6:8])\n",
    "test_X[:, 6:8] = sc.transform(test_X[:, 6:8])\n",
    "train_X = np.array(train_X)\n",
    "test_X = np.array(test_X)\n",
    "\n",
    "sc = StandardScaler()\n",
    "train_X[:, 10:11] = sc.fit_transform(train_X[:, 10:11])\n",
    "test_X[:, 10:11] = sc.transform(test_X[:, 10:11])\n",
    "test_Y = np.array(test_Y)"
   ]
  },
  {
   "cell_type": "code",
   "execution_count": null,
   "metadata": {},
   "outputs": [],
   "source": []
  },
  {
   "cell_type": "code",
   "execution_count": 13,
   "metadata": {},
   "outputs": [
    {
     "name": "stdout",
     "output_type": "stream",
     "text": [
      "[[1341   15]\n",
      " [  44  100]]\n",
      "0.9606666666666667\n",
      "0.8753378906607655\n",
      "0.8695652173913043\n",
      "[[3136   28]\n",
      " [  88  248]]\n",
      "0.9668571428571429\n"
     ]
    },
    {
     "name": "stderr",
     "output_type": "stream",
     "text": [
      "/opt/anaconda3/lib/python3.7/site-packages/sklearn/linear_model/_logistic.py:940: ConvergenceWarning: lbfgs failed to converge (status=1):\n",
      "STOP: TOTAL NO. of ITERATIONS REACHED LIMIT.\n",
      "\n",
      "Increase the number of iterations (max_iter) or scale the data as shown in:\n",
      "    https://scikit-learn.org/stable/modules/preprocessing.html\n",
      "Please also refer to the documentation for alternative solver options:\n",
      "    https://scikit-learn.org/stable/modules/linear_model.html#logistic-regression\n",
      "  extra_warning_msg=_LOGISTIC_SOLVER_CONVERGENCE_MSG)\n"
     ]
    },
    {
     "data": {
      "text/plain": [
       "1.3585332008407895"
      ]
     },
     "execution_count": 13,
     "metadata": {},
     "output_type": "execute_result"
    }
   ],
   "source": [
    "# 6) Logistic Regression\n",
    "classifier = LogisticRegression(random_state = 0)\n",
    "classifier.fit(train_X, train_Y)\n",
    "\n",
    "y_pred = classifier.predict(test_X)\n",
    "\n",
    "\n",
    "cm = confusion_matrix(test_Y, y_pred)\n",
    "print(cm)\n",
    "print(accuracy_score(test_Y, y_pred))\n",
    "\n",
    "\n",
    "print(f1_score(test_Y, y_pred, average='macro'))\n",
    "\n",
    "print(precision_score(test_Y, y_pred))\n",
    "y_pred = classifier.predict(train_X)\n",
    "\n",
    "cm = confusion_matrix(train_Y, y_pred)\n",
    "print(cm)\n",
    "print(accuracy_score(train_Y, y_pred))\n",
    "y_pred = classifier.predict(test_X)\n",
    "\n",
    "from sklearn.metrics import log_loss  \n",
    "# where y_pred are probabilities and y_true are binary class labels\n",
    "log_loss(test_Y, y_pred, eps=1e-15)"
   ]
  },
  {
   "cell_type": "code",
   "execution_count": null,
   "metadata": {},
   "outputs": [],
   "source": []
  },
  {
   "cell_type": "code",
   "execution_count": 14,
   "metadata": {},
   "outputs": [
    {
     "name": "stdout",
     "output_type": "stream",
     "text": [
      "[[1341   15]\n",
      " [  49   95]]\n",
      "0.9573333333333334\n",
      "0.8623624341203526\n",
      "0.8636363636363636\n"
     ]
    }
   ],
   "source": [
    "# kernel svm\n",
    "classifier = SVC(kernel = 'linear', random_state = 0)\n",
    "classifier.fit(train_X, train_Y)\n",
    "\n",
    "y_pred1 = classifier.predict(test_X)\n",
    "\n",
    "cm = confusion_matrix(test_Y, y_pred1)\n",
    "print(cm)\n",
    "print(accuracy_score(test_Y, y_pred1))\n",
    "\n",
    "print(f1_score(test_Y, y_pred1, average='macro'))\n",
    "\n",
    "print(precision_score(test_Y, y_pred1))\n",
    "\n",
    "\n"
   ]
  },
  {
   "cell_type": "code",
   "execution_count": null,
   "metadata": {},
   "outputs": [],
   "source": []
  },
  {
   "cell_type": "code",
   "execution_count": 15,
   "metadata": {},
   "outputs": [
    {
     "name": "stdout",
     "output_type": "stream",
     "text": [
      "[[1355    1]\n",
      " [  37  107]]\n",
      "0.9746666666666667\n",
      "0.9176890552436404\n",
      "0.9907407407407407\n"
     ]
    }
   ],
   "source": [
    "# K-Nearest-Neighbours\n",
    "classifier = KNeighborsClassifier(n_neighbors = 5, metric = 'minkowski', p = 2)\n",
    "classifier.fit(train_X, train_Y)\n",
    "\n",
    "y_pred2 = classifier.predict(test_X)\n",
    "\n",
    "cm = confusion_matrix(test_Y, y_pred2)\n",
    "print(cm)\n",
    "print(accuracy_score(test_Y, y_pred2))\n",
    "\n",
    "\n",
    "print(f1_score(test_Y, y_pred2, average='macro'))\n",
    "\n",
    "print(precision_score(test_Y, y_pred2))\n"
   ]
  },
  {
   "cell_type": "code",
   "execution_count": null,
   "metadata": {},
   "outputs": [],
   "source": []
  },
  {
   "cell_type": "code",
   "execution_count": 16,
   "metadata": {},
   "outputs": [
    {
     "name": "stdout",
     "output_type": "stream",
     "text": [
      "[[1353    3]\n",
      " [  16  128]]\n",
      "0.9873333333333333\n",
      "0.9619683069224354\n",
      "0.9770992366412213\n"
     ]
    }
   ],
   "source": [
    "# Random forest Regression \n",
    "classifier = RandomForestClassifier(n_estimators = 10, criterion = 'entropy', random_state = 0)\n",
    "classifier.fit(train_X, train_Y)\n",
    "y_pred3 = classifier.predict(test_X)\n",
    "\n",
    "cm = confusion_matrix(test_Y, y_pred3)\n",
    "print(cm)\n",
    "print(accuracy_score(test_Y, y_pred3))\n",
    "\n",
    "\n",
    "print(f1_score(test_Y, y_pred3, average='macro'))\n",
    "\n",
    "print(precision_score(test_Y, y_pred3))\n"
   ]
  },
  {
   "cell_type": "code",
   "execution_count": 17,
   "metadata": {},
   "outputs": [
    {
     "name": "stdout",
     "output_type": "stream",
     "text": [
      "[[3164    0]\n",
      " [   1  335]]\n",
      "0.9997142857142857\n",
      "0.999175842095113\n"
     ]
    }
   ],
   "source": [
    "y_pred4=classifier.predict(train_X)\n",
    "cm = confusion_matrix(train_Y, y_pred4)\n",
    "print(cm)\n",
    "print(accuracy_score(train_Y, y_pred4))\n",
    "\n",
    "\n",
    "print(f1_score(train_Y, y_pred4, average='macro'))\n",
    "\n"
   ]
  },
  {
   "cell_type": "code",
   "execution_count": null,
   "metadata": {},
   "outputs": [],
   "source": [
    "\n"
   ]
  },
  {
   "cell_type": "code",
   "execution_count": 18,
   "metadata": {},
   "outputs": [
    {
     "ename": "XGBoostError",
     "evalue": "XGBoost Library (libxgboost.dylib) could not be loaded.\nLikely causes:\n  * OpenMP runtime is not installed (vcomp140.dll or libgomp-1.dll for Windows, libomp.dylib for Mac OSX, libgomp.so for Linux and other UNIX-like OSes). Mac OSX users: Run `brew install libomp` to install OpenMP runtime.\n  * You are running 32-bit Python on a 64-bit OS\nError message(s): ['dlopen(/opt/anaconda3/lib/python3.7/site-packages/xgboost/lib/libxgboost.dylib, 6): Library not loaded: /usr/local/opt/libomp/lib/libomp.dylib\\n  Referenced from: /opt/anaconda3/lib/python3.7/site-packages/xgboost/lib/libxgboost.dylib\\n  Reason: image not found']\n",
     "output_type": "error",
     "traceback": [
      "\u001b[0;31m---------------------------------------------------------------------------\u001b[0m",
      "\u001b[0;31mXGBoostError\u001b[0m                              Traceback (most recent call last)",
      "\u001b[0;32m<ipython-input-18-f22e704e6844>\u001b[0m in \u001b[0;36m<module>\u001b[0;34m\u001b[0m\n\u001b[0;32m----> 1\u001b[0;31m \u001b[0;32mfrom\u001b[0m \u001b[0mxgboost\u001b[0m \u001b[0;32mimport\u001b[0m \u001b[0mXGBClassifier\u001b[0m\u001b[0;34m\u001b[0m\u001b[0;34m\u001b[0m\u001b[0m\n\u001b[0m\u001b[1;32m      2\u001b[0m \u001b[0mclassifier\u001b[0m \u001b[0;34m=\u001b[0m \u001b[0mXGBClassifier\u001b[0m\u001b[0;34m(\u001b[0m\u001b[0;34m)\u001b[0m\u001b[0;34m\u001b[0m\u001b[0;34m\u001b[0m\u001b[0m\n\u001b[1;32m      3\u001b[0m \u001b[0mclassifier\u001b[0m\u001b[0;34m.\u001b[0m\u001b[0mfit\u001b[0m\u001b[0;34m(\u001b[0m\u001b[0mtrain_X\u001b[0m\u001b[0;34m,\u001b[0m \u001b[0mtrain_Y\u001b[0m\u001b[0;34m)\u001b[0m\u001b[0;34m\u001b[0m\u001b[0;34m\u001b[0m\u001b[0m\n\u001b[1;32m      4\u001b[0m \u001b[0;34m\u001b[0m\u001b[0m\n\u001b[1;32m      5\u001b[0m \u001b[0;32mfrom\u001b[0m \u001b[0msklearn\u001b[0m\u001b[0;34m.\u001b[0m\u001b[0mmetrics\u001b[0m \u001b[0;32mimport\u001b[0m \u001b[0mconfusion_matrix\u001b[0m\u001b[0;34m,\u001b[0m \u001b[0maccuracy_score\u001b[0m\u001b[0;34m\u001b[0m\u001b[0;34m\u001b[0m\u001b[0m\n",
      "\u001b[0;32m/opt/anaconda3/lib/python3.7/site-packages/xgboost/__init__.py\u001b[0m in \u001b[0;36m<module>\u001b[0;34m\u001b[0m\n\u001b[1;32m      7\u001b[0m \u001b[0;32mimport\u001b[0m \u001b[0mos\u001b[0m\u001b[0;34m\u001b[0m\u001b[0;34m\u001b[0m\u001b[0m\n\u001b[1;32m      8\u001b[0m \u001b[0;34m\u001b[0m\u001b[0m\n\u001b[0;32m----> 9\u001b[0;31m \u001b[0;32mfrom\u001b[0m \u001b[0;34m.\u001b[0m\u001b[0mcore\u001b[0m \u001b[0;32mimport\u001b[0m \u001b[0mDMatrix\u001b[0m\u001b[0;34m,\u001b[0m \u001b[0mDeviceQuantileDMatrix\u001b[0m\u001b[0;34m,\u001b[0m \u001b[0mBooster\u001b[0m\u001b[0;34m\u001b[0m\u001b[0;34m\u001b[0m\u001b[0m\n\u001b[0m\u001b[1;32m     10\u001b[0m \u001b[0;32mfrom\u001b[0m \u001b[0;34m.\u001b[0m\u001b[0mtraining\u001b[0m \u001b[0;32mimport\u001b[0m \u001b[0mtrain\u001b[0m\u001b[0;34m,\u001b[0m \u001b[0mcv\u001b[0m\u001b[0;34m\u001b[0m\u001b[0;34m\u001b[0m\u001b[0m\n\u001b[1;32m     11\u001b[0m \u001b[0;32mfrom\u001b[0m \u001b[0;34m.\u001b[0m \u001b[0;32mimport\u001b[0m \u001b[0mrabit\u001b[0m  \u001b[0;31m# noqa\u001b[0m\u001b[0;34m\u001b[0m\u001b[0;34m\u001b[0m\u001b[0m\n",
      "\u001b[0;32m/opt/anaconda3/lib/python3.7/site-packages/xgboost/core.py\u001b[0m in \u001b[0;36m<module>\u001b[0;34m\u001b[0m\n\u001b[1;32m    171\u001b[0m \u001b[0;34m\u001b[0m\u001b[0m\n\u001b[1;32m    172\u001b[0m \u001b[0;31m# load the XGBoost library globally\u001b[0m\u001b[0;34m\u001b[0m\u001b[0;34m\u001b[0m\u001b[0;34m\u001b[0m\u001b[0m\n\u001b[0;32m--> 173\u001b[0;31m \u001b[0m_LIB\u001b[0m \u001b[0;34m=\u001b[0m \u001b[0m_load_lib\u001b[0m\u001b[0;34m(\u001b[0m\u001b[0;34m)\u001b[0m\u001b[0;34m\u001b[0m\u001b[0;34m\u001b[0m\u001b[0m\n\u001b[0m\u001b[1;32m    174\u001b[0m \u001b[0;34m\u001b[0m\u001b[0m\n\u001b[1;32m    175\u001b[0m \u001b[0;34m\u001b[0m\u001b[0m\n",
      "\u001b[0;32m/opt/anaconda3/lib/python3.7/site-packages/xgboost/core.py\u001b[0m in \u001b[0;36m_load_lib\u001b[0;34m()\u001b[0m\n\u001b[1;32m    162\u001b[0m             \u001b[0;34m'`brew install libomp` to install OpenMP runtime.\\n'\u001b[0m \u001b[0;34m+\u001b[0m\u001b[0;34m\u001b[0m\u001b[0;34m\u001b[0m\u001b[0m\n\u001b[1;32m    163\u001b[0m             \u001b[0;34m'  * You are running 32-bit Python on a 64-bit OS\\n'\u001b[0m \u001b[0;34m+\u001b[0m\u001b[0;34m\u001b[0m\u001b[0;34m\u001b[0m\u001b[0m\n\u001b[0;32m--> 164\u001b[0;31m             'Error message(s): {}\\n'.format(os_error_list))\n\u001b[0m\u001b[1;32m    165\u001b[0m     \u001b[0mlib\u001b[0m\u001b[0;34m.\u001b[0m\u001b[0mXGBGetLastError\u001b[0m\u001b[0;34m.\u001b[0m\u001b[0mrestype\u001b[0m \u001b[0;34m=\u001b[0m \u001b[0mctypes\u001b[0m\u001b[0;34m.\u001b[0m\u001b[0mc_char_p\u001b[0m\u001b[0;34m\u001b[0m\u001b[0;34m\u001b[0m\u001b[0m\n\u001b[1;32m    166\u001b[0m     \u001b[0mlib\u001b[0m\u001b[0;34m.\u001b[0m\u001b[0mcallback\u001b[0m \u001b[0;34m=\u001b[0m \u001b[0m_get_log_callback_func\u001b[0m\u001b[0;34m(\u001b[0m\u001b[0;34m)\u001b[0m\u001b[0;34m\u001b[0m\u001b[0;34m\u001b[0m\u001b[0m\n",
      "\u001b[0;31mXGBoostError\u001b[0m: XGBoost Library (libxgboost.dylib) could not be loaded.\nLikely causes:\n  * OpenMP runtime is not installed (vcomp140.dll or libgomp-1.dll for Windows, libomp.dylib for Mac OSX, libgomp.so for Linux and other UNIX-like OSes). Mac OSX users: Run `brew install libomp` to install OpenMP runtime.\n  * You are running 32-bit Python on a 64-bit OS\nError message(s): ['dlopen(/opt/anaconda3/lib/python3.7/site-packages/xgboost/lib/libxgboost.dylib, 6): Library not loaded: /usr/local/opt/libomp/lib/libomp.dylib\\n  Referenced from: /opt/anaconda3/lib/python3.7/site-packages/xgboost/lib/libxgboost.dylib\\n  Reason: image not found']\n"
     ]
    }
   ],
   "source": [
    "from xgboost import XGBClassifier\n",
    "classifier = XGBClassifier()\n",
    "classifier.fit(train_X, train_Y)\n",
    "\n",
    "from sklearn.metrics import confusion_matrix, accuracy_score\n",
    "y_pred5 = classifier.predict(test_X)\n",
    "cm = confusion_matrix(test_Y, y_pred5)\n",
    "print(cm)\n",
    "print(accuracy_score(test_Y, y_pred5))\n",
    "\n",
    "\n",
    "from sklearn.model_selection import cross_val_score\n",
    "accuracies = cross_val_score(estimator = classifier, X = train_X, y = train_Y, cv = 10)\n",
    "print(\"Accuracy: {:.2f} %\".format(accuracies.mean()*100))\n",
    "print(\"Standard Deviation: {:.2f} %\".format(accuracies.std()*100))"
   ]
  },
  {
   "cell_type": "code",
   "execution_count": null,
   "metadata": {},
   "outputs": [],
   "source": []
  }
 ],
 "metadata": {
  "kernelspec": {
   "display_name": "Python 3",
   "language": "python",
   "name": "python3"
  },
  "language_info": {
   "codemirror_mode": {
    "name": "ipython",
    "version": 3
   },
   "file_extension": ".py",
   "mimetype": "text/x-python",
   "name": "python",
   "nbconvert_exporter": "python",
   "pygments_lexer": "ipython3",
   "version": "3.7.6"
  }
 },
 "nbformat": 4,
 "nbformat_minor": 4
}
